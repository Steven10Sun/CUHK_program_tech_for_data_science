{
 "cells": [
  {
   "cell_type": "code",
   "execution_count": 3,
   "metadata": {},
   "outputs": [],
   "source": [
    "# Q1\n",
    "def validate_credit_card(card):\n",
    "    result = 0\n",
    "    for index, digit in enumerate(card[::-1]):\n",
    "        digit = int(digit)\n",
    "        if index % 2 != 0:\n",
    "            if int(digit)*2 > 9:\n",
    "                result += digit*2 - 9\n",
    "            else:\n",
    "                result += digit*2\n",
    "        else:\n",
    "            result += digit\n",
    "    if result % 10 == 0:\n",
    "        return 'Valid'\n",
    "    else:\n",
    "        return 'Invalid'\n"
   ]
  },
  {
   "cell_type": "code",
   "execution_count": 4,
   "metadata": {},
   "outputs": [
    {
     "name": "stdout",
     "output_type": "stream",
     "text": [
      "45320151128336:  Valid\n",
      "6011123456789000:  Invalid\n",
      "379354508162306:  Valid\n"
     ]
    }
   ],
   "source": [
    "print('45320151128336: ', validate_credit_card('45320151128336'))\n",
    "print('6011123456789000: ', validate_credit_card('6011123456789000'))\n",
    "print('379354508162306: ', validate_credit_card('379354508162306'))"
   ]
  },
  {
   "cell_type": "code",
   "execution_count": 7,
   "metadata": {},
   "outputs": [],
   "source": [
    "# Q2\n",
    "def check_mathematical_series(num):\n",
    "    def is_Fibonacci(num):\n",
    "        a, b = 0, 1\n",
    "        while b < num:\n",
    "            a, b = b, a + b\n",
    "        if b == num:\n",
    "            return 'Fibonacci'\n",
    "\n",
    "    def is_Triangular(num):\n",
    "        def Triangular(n):\n",
    "            return (n * (n + 1)) / 2\n",
    "        \n",
    "        index = 1\n",
    "        while Triangular(index) < num:\n",
    "            index += 1\n",
    "        if Triangular(index) == num:\n",
    "            return 'Triangular'\n",
    "\n",
    "    def is_Square(num):\n",
    "        index = 1\n",
    "        while index**2 < num:\n",
    "            index += 1\n",
    "        if index**2 == num:\n",
    "            return 'Square'\n",
    "\n",
    "    result = []\n",
    "    a = is_Fibonacci(num)\n",
    "    b = is_Triangular(num)\n",
    "    c = is_Square(num)\n",
    "    if a:\n",
    "        result.append(a)\n",
    "    if b:\n",
    "        result.append(b)\n",
    "    if c:\n",
    "        result.append(c)\n",
    "    if not result:\n",
    "        return 'None'\n",
    "    else:\n",
    "        return ', '.join(result)"
   ]
  },
  {
   "cell_type": "code",
   "execution_count": 10,
   "metadata": {},
   "outputs": [
    {
     "name": "stdout",
     "output_type": "stream",
     "text": [
      "n = 21: Fibonacci, Triangular\n",
      "n = 9: Square\n",
      "n = 17: None\n",
      "n = 10: Triangular\n"
     ]
    }
   ],
   "source": [
    "print('n = 21:', check_mathematical_series(21))\n",
    "print('n = 9:', check_mathematical_series(9))\n",
    "print('n = 17:', check_mathematical_series(17))\n",
    "print('n = 10:', check_mathematical_series(10))"
   ]
  },
  {
   "cell_type": "code",
   "execution_count": 11,
   "metadata": {},
   "outputs": [],
   "source": [
    "# Q3\n",
    "import random\n",
    "def guessing_game():\n",
    "    # Input the maximum number for the game\n",
    "    while True:\n",
    "        try:\n",
    "            max_number = int(input(\"Set a maximum number for this game: \"))\n",
    "            if max_number <= 1:\n",
    "                raise ValueError()\n",
    "            break\n",
    "        except ValueError as e:\n",
    "            print('\"Please enter a number greater than 1\"')\n",
    "\n",
    "    # Randomly select a number between 1 and max_number\n",
    "    boom = random.randint(1, max_number)\n",
    "    lower_bound, upper_bound = 1, max_number\n",
    "\n",
    "    guess = input(f\"Guess a number between {lower_bound} and {upper_bound} until you get it right: \")\n",
    "    while True:\n",
    "        while True:\n",
    "            try:\n",
    "                guess = int(guess)\n",
    "                if guess < lower_bound or guess > upper_bound or not guess.is_integer():\n",
    "                    raise ValueError()\n",
    "                break\n",
    "            except ValueError:\n",
    "                guess = input(f\"Guess a number between {lower_bound} and {upper_bound} !!! \")\n",
    "\n",
    "        # Check the guess\n",
    "        if guess < boom:\n",
    "            lower_bound = guess\n",
    "            guess = input(f\"Guess a number between {lower_bound} and {upper_bound} until you get it right: \")\n",
    "        elif guess > boom:\n",
    "            upper_bound = guess\n",
    "            guess = input(f\"Guess a number between {lower_bound} and {upper_bound} until you get it right: \")\n",
    "        else:\n",
    "            print(\"BOOM !!!\")\n",
    "            print(\"Congrats! You have ended the game!\")\n",
    "            break"
   ]
  },
  {
   "cell_type": "code",
   "execution_count": 12,
   "metadata": {},
   "outputs": [
    {
     "name": "stdout",
     "output_type": "stream",
     "text": [
      "BOOM !!!\n",
      "Congrats! You have ended the game!\n"
     ]
    }
   ],
   "source": [
    "guessing_game()"
   ]
  }
 ],
 "metadata": {
  "kernelspec": {
   "display_name": "Python 3",
   "language": "python",
   "name": "python3"
  },
  "language_info": {
   "codemirror_mode": {
    "name": "ipython",
    "version": 3
   },
   "file_extension": ".py",
   "mimetype": "text/x-python",
   "name": "python",
   "nbconvert_exporter": "python",
   "pygments_lexer": "ipython3",
   "version": "3.12.3"
  }
 },
 "nbformat": 4,
 "nbformat_minor": 2
}
